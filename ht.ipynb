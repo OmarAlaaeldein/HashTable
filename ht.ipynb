{
 "cells": [
  {
   "cell_type": "code",
   "execution_count": 1,
   "source": [
    "import pprint\r\n",
    "import prettytable\r\n",
    "import time\r\n",
    "import matplotlib.pyplot as plt\r\n",
    "from tqdm import tqdm\r\n",
    "\r\n",
    "class Hashtable:\r\n",
    "    def __init__(self,elements: list):\r\n",
    "        self.size=len(elements)\r\n",
    "        self.table=[[] for i in range(self.size)] # modify this for higher or less memory consumbtion \r\n",
    "        self.create_buckets(elements)\r\n",
    "    def add(self,key,value):\r\n",
    "        \"\"\"Adds a new pair in the hashatable\r\n",
    "\r\n",
    "        Args:\r\n",
    "            key (hashable objects): the added key\r\n",
    "            value (any): the added value\r\n",
    "\r\n",
    "        Returns:\r\n",
    "            None\r\n",
    "        \"\"\"\r\n",
    "        index=hash(key)%value\r\n",
    "        self.table[index].append((key,value))\r\n",
    "        return None\r\n",
    "    def create_buckets(self,l : list):\r\n",
    "        \"\"\"Creates a hashtable with a fixed size defined in self.size\r\n",
    "        \r\n",
    "        Args:\r\n",
    "            l (list): contains the list which will be converted to hashtable later\r\n",
    "        Returns:\r\n",
    "            None\r\n",
    "        \"\"\"\r\n",
    "        for i,j in l:\r\n",
    "            index=hash(i)%self.size\r\n",
    "            self.table[index].append((i,j))\r\n",
    "        return None\r\n",
    "    def find(self,req_key): # \r\n",
    "        \"\"\"Find the required value in the hashtable given a key, find with O(n) time complexity, will create a method with a O(logn) complexity later \r\n",
    "\r\n",
    "        Args:\r\n",
    "            req_key (hashable objects): the required key in the pair key-value\r\n",
    "\r\n",
    "        Returns:\r\n",
    "            any: returns the value in the pair key-value\r\n",
    "        \"\"\"\r\n",
    "        index=hash(req_key)%self.size\r\n",
    "        for key,value in self.table[index]:\r\n",
    "            if req_key==key:\r\n",
    "                return value\r\n",
    "    def __str__(self):\r\n",
    "        return pprint.pformat(self.table) # returns an str object\r\n",
    "capitals = [\r\n",
    "        ('France', 'Paris'),\r\n",
    "        ('United States', 'Washington D.C.'),\r\n",
    "        ('Italy', 'Rome'),\r\n",
    "        ('Canada', 'Ottawa')]\r\n",
    "\r\n",
    "heavy_stress=10000\r\n",
    "hashtable = Hashtable(capitals)\r\n",
    "t=range(0,heavy_stress**2,heavy_stress)\r\n",
    "time_ht=[]\r\n",
    "time_ll=[]\r\n",
    "l=[i[0] for i in capitals]\r\n",
    "b=len(l)\r\n",
    "tik=time.time()\r\n",
    "for j in tqdm(range(heavy_stress)):\r\n",
    "    for i in range(heavy_stress):\r\n",
    "        x=hashtable.find(l[i%b])\r\n",
    "    time_ht.append(time.time()-tik)\r\n",
    "\r\n",
    "tik=time.time()\r\n",
    "for j in tqdm(range(heavy_stress)):\r\n",
    "    for i in range(heavy_stress):\r\n",
    "        for x,y in capitals:\r\n",
    "            if x==l[i%b]:\r\n",
    "                x=y\r\n",
    "    time_ll.append(time.time()-tik)\r\n",
    "plt.plot(t,time_ht,label='HashTable')\r\n",
    "plt.xlabel(\"Number of searches\")\r\n",
    "plt.ylabel(\"Time(s)\")\r\n",
    "plt.plot(t,time_ll,label=\"Linked list\")\r\n",
    "plt.legend()"
   ],
   "outputs": [
    {
     "output_type": "stream",
     "name": "stderr",
     "text": [
      "100%|██████████| 10000/10000 [01:01<00:00, 162.89it/s]\n",
      "100%|██████████| 10000/10000 [01:28<00:00, 113.47it/s]\n"
     ]
    },
    {
     "output_type": "execute_result",
     "data": {
      "text/plain": [
       "<matplotlib.legend.Legend at 0x213140afe80>"
      ]
     },
     "metadata": {},
     "execution_count": 1
    },
    {
     "output_type": "display_data",
     "data": {
      "image/png": "[encoded data removed]",
      "text/plain": [
       "<Figure size 432x288 with 1 Axes>"
      ]
     },
     "metadata": {
      "needs_background": "light"
     }
    }
   ],
   "metadata": {}
  }
 ],
 "metadata": {
  "orig_nbformat": 4,
  "language_info": {
   "name": "python",
   "version": "3.8.8",
   "mimetype": "text/x-python",
   "codemirror_mode": {
    "name": "ipython",
    "version": 3
   },
   "pygments_lexer": "ipython3",
   "nbconvert_exporter": "python",
   "file_extension": ".py"
  },
  "kernelspec": {
   "name": "python3",
   "display_name": "Python 3.8.8 64-bit ('base': conda)"
  },
  "interpreter": {
   "hash": "83edcf9d6691da80da87185edf1e2ec27aa1177a09f7d029aea1a0cb99dd36f7"
  }
 },
 "nbformat": 4,
 "nbformat_minor": 2
}